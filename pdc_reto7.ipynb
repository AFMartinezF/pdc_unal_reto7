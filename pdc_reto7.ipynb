{
  "nbformat": 4,
  "nbformat_minor": 0,
  "metadata": {
    "colab": {
      "provenance": []
    },
    "kernelspec": {
      "name": "python3",
      "display_name": "Python 3"
    },
    "language_info": {
      "name": "python"
    }
  },
  "cells": [
    {
      "cell_type": "markdown",
      "source": [
        "1. Imprimir un listado con los números del 1 al 100 cada uno con su respectivo cuadrado.\n",
        "\n",
        "\n"
      ],
      "metadata": {
        "id": "gIbd6XOKx3IY"
      }
    },
    {
      "cell_type": "code",
      "execution_count": 1,
      "metadata": {
        "colab": {
          "base_uri": "https://localhost:8080/"
        },
        "collapsed": true,
        "id": "jNGKFAcWxi9V",
        "outputId": "5a1b9641-101a-4197-eb7e-08c3313e0a6e"
      },
      "outputs": [
        {
          "output_type": "stream",
          "name": "stdout",
          "text": [
            "1 1\n",
            "2 4\n",
            "3 9\n",
            "4 16\n",
            "5 25\n",
            "6 36\n",
            "7 49\n",
            "8 64\n",
            "9 81\n",
            "10 100\n",
            "11 121\n",
            "12 144\n",
            "13 169\n",
            "14 196\n",
            "15 225\n",
            "16 256\n",
            "17 289\n",
            "18 324\n",
            "19 361\n",
            "20 400\n",
            "21 441\n",
            "22 484\n",
            "23 529\n",
            "24 576\n",
            "25 625\n",
            "26 676\n",
            "27 729\n",
            "28 784\n",
            "29 841\n",
            "30 900\n",
            "31 961\n",
            "32 1024\n",
            "33 1089\n",
            "34 1156\n",
            "35 1225\n",
            "36 1296\n",
            "37 1369\n",
            "38 1444\n",
            "39 1521\n",
            "40 1600\n",
            "41 1681\n",
            "42 1764\n",
            "43 1849\n",
            "44 1936\n",
            "45 2025\n",
            "46 2116\n",
            "47 2209\n",
            "48 2304\n",
            "49 2401\n",
            "50 2500\n",
            "51 2601\n",
            "52 2704\n",
            "53 2809\n",
            "54 2916\n",
            "55 3025\n",
            "56 3136\n",
            "57 3249\n",
            "58 3364\n",
            "59 3481\n",
            "60 3600\n",
            "61 3721\n",
            "62 3844\n",
            "63 3969\n",
            "64 4096\n",
            "65 4225\n",
            "66 4356\n",
            "67 4489\n",
            "68 4624\n",
            "69 4761\n",
            "70 4900\n",
            "71 5041\n",
            "72 5184\n",
            "73 5329\n",
            "74 5476\n",
            "75 5625\n",
            "76 5776\n",
            "77 5929\n",
            "78 6084\n",
            "79 6241\n",
            "80 6400\n",
            "81 6561\n",
            "82 6724\n",
            "83 6889\n",
            "84 7056\n",
            "85 7225\n",
            "86 7396\n",
            "87 7569\n",
            "88 7744\n",
            "89 7921\n",
            "90 8100\n",
            "91 8281\n",
            "92 8464\n",
            "93 8649\n",
            "94 8836\n",
            "95 9025\n",
            "96 9216\n",
            "97 9409\n",
            "98 9604\n",
            "99 9801\n",
            "100 10000\n"
          ]
        }
      ],
      "source": [
        "def main():\n",
        "  #Recorrer los números de 1 a 100\n",
        "  for i in range(1, 101):\n",
        "    #Calcular el cuadrado del número e imprimirlo\n",
        "      print(i, i**2)\n",
        "\n",
        "#Definir la función principal\n",
        "if __name__ == \"__main__\":\n",
        "    main()"
      ]
    },
    {
      "cell_type": "markdown",
      "source": [
        "2. Imprimir un listado con los números impares desde 1 hasta 999 y seguidamente otro listado con los números pares desde 2 hasta 1000.\n"
      ],
      "metadata": {
        "id": "6lsFQLDW28Li"
      }
    },
    {
      "cell_type": "code",
      "source": [
        "def main():\n",
        "  pares = []\n",
        "  impares = []\n",
        "  #Recorrer los números de 1 a 1000\n",
        "  for i in range(1, 1001):\n",
        "    #Verificar si el número es par o impar\n",
        "    if i % 2 != 0:\n",
        "      #Añadir el número a la lista de impares\n",
        "      impares.append(i)\n",
        "    else:\n",
        "      #Añadir el número a la lista de pares\n",
        "      pares.append(i)\n",
        "\n",
        "  #Imprimir la lista de impares\n",
        "  print(\"Números impares:\")\n",
        "  print(impares)\n",
        "  #Imprimir la lista de pares\n",
        "  print(\"Números pares:\")\n",
        "  print(pares)\n",
        "\n",
        "#Definir la función principal\n",
        "if __name__ == \"__main__\":\n",
        "    main()"
      ],
      "metadata": {
        "id": "VURT4mN-20xn",
        "colab": {
          "base_uri": "https://localhost:8080/"
        },
        "outputId": "84b87a20-d9e0-406f-8178-e570adfa2b04"
      },
      "execution_count": 2,
      "outputs": [
        {
          "output_type": "stream",
          "name": "stdout",
          "text": [
            "Números impares:\n",
            "[1, 3, 5, 7, 9, 11, 13, 15, 17, 19, 21, 23, 25, 27, 29, 31, 33, 35, 37, 39, 41, 43, 45, 47, 49, 51, 53, 55, 57, 59, 61, 63, 65, 67, 69, 71, 73, 75, 77, 79, 81, 83, 85, 87, 89, 91, 93, 95, 97, 99, 101, 103, 105, 107, 109, 111, 113, 115, 117, 119, 121, 123, 125, 127, 129, 131, 133, 135, 137, 139, 141, 143, 145, 147, 149, 151, 153, 155, 157, 159, 161, 163, 165, 167, 169, 171, 173, 175, 177, 179, 181, 183, 185, 187, 189, 191, 193, 195, 197, 199, 201, 203, 205, 207, 209, 211, 213, 215, 217, 219, 221, 223, 225, 227, 229, 231, 233, 235, 237, 239, 241, 243, 245, 247, 249, 251, 253, 255, 257, 259, 261, 263, 265, 267, 269, 271, 273, 275, 277, 279, 281, 283, 285, 287, 289, 291, 293, 295, 297, 299, 301, 303, 305, 307, 309, 311, 313, 315, 317, 319, 321, 323, 325, 327, 329, 331, 333, 335, 337, 339, 341, 343, 345, 347, 349, 351, 353, 355, 357, 359, 361, 363, 365, 367, 369, 371, 373, 375, 377, 379, 381, 383, 385, 387, 389, 391, 393, 395, 397, 399, 401, 403, 405, 407, 409, 411, 413, 415, 417, 419, 421, 423, 425, 427, 429, 431, 433, 435, 437, 439, 441, 443, 445, 447, 449, 451, 453, 455, 457, 459, 461, 463, 465, 467, 469, 471, 473, 475, 477, 479, 481, 483, 485, 487, 489, 491, 493, 495, 497, 499, 501, 503, 505, 507, 509, 511, 513, 515, 517, 519, 521, 523, 525, 527, 529, 531, 533, 535, 537, 539, 541, 543, 545, 547, 549, 551, 553, 555, 557, 559, 561, 563, 565, 567, 569, 571, 573, 575, 577, 579, 581, 583, 585, 587, 589, 591, 593, 595, 597, 599, 601, 603, 605, 607, 609, 611, 613, 615, 617, 619, 621, 623, 625, 627, 629, 631, 633, 635, 637, 639, 641, 643, 645, 647, 649, 651, 653, 655, 657, 659, 661, 663, 665, 667, 669, 671, 673, 675, 677, 679, 681, 683, 685, 687, 689, 691, 693, 695, 697, 699, 701, 703, 705, 707, 709, 711, 713, 715, 717, 719, 721, 723, 725, 727, 729, 731, 733, 735, 737, 739, 741, 743, 745, 747, 749, 751, 753, 755, 757, 759, 761, 763, 765, 767, 769, 771, 773, 775, 777, 779, 781, 783, 785, 787, 789, 791, 793, 795, 797, 799, 801, 803, 805, 807, 809, 811, 813, 815, 817, 819, 821, 823, 825, 827, 829, 831, 833, 835, 837, 839, 841, 843, 845, 847, 849, 851, 853, 855, 857, 859, 861, 863, 865, 867, 869, 871, 873, 875, 877, 879, 881, 883, 885, 887, 889, 891, 893, 895, 897, 899, 901, 903, 905, 907, 909, 911, 913, 915, 917, 919, 921, 923, 925, 927, 929, 931, 933, 935, 937, 939, 941, 943, 945, 947, 949, 951, 953, 955, 957, 959, 961, 963, 965, 967, 969, 971, 973, 975, 977, 979, 981, 983, 985, 987, 989, 991, 993, 995, 997, 999]\n",
            "Números pares:\n",
            "[2, 4, 6, 8, 10, 12, 14, 16, 18, 20, 22, 24, 26, 28, 30, 32, 34, 36, 38, 40, 42, 44, 46, 48, 50, 52, 54, 56, 58, 60, 62, 64, 66, 68, 70, 72, 74, 76, 78, 80, 82, 84, 86, 88, 90, 92, 94, 96, 98, 100, 102, 104, 106, 108, 110, 112, 114, 116, 118, 120, 122, 124, 126, 128, 130, 132, 134, 136, 138, 140, 142, 144, 146, 148, 150, 152, 154, 156, 158, 160, 162, 164, 166, 168, 170, 172, 174, 176, 178, 180, 182, 184, 186, 188, 190, 192, 194, 196, 198, 200, 202, 204, 206, 208, 210, 212, 214, 216, 218, 220, 222, 224, 226, 228, 230, 232, 234, 236, 238, 240, 242, 244, 246, 248, 250, 252, 254, 256, 258, 260, 262, 264, 266, 268, 270, 272, 274, 276, 278, 280, 282, 284, 286, 288, 290, 292, 294, 296, 298, 300, 302, 304, 306, 308, 310, 312, 314, 316, 318, 320, 322, 324, 326, 328, 330, 332, 334, 336, 338, 340, 342, 344, 346, 348, 350, 352, 354, 356, 358, 360, 362, 364, 366, 368, 370, 372, 374, 376, 378, 380, 382, 384, 386, 388, 390, 392, 394, 396, 398, 400, 402, 404, 406, 408, 410, 412, 414, 416, 418, 420, 422, 424, 426, 428, 430, 432, 434, 436, 438, 440, 442, 444, 446, 448, 450, 452, 454, 456, 458, 460, 462, 464, 466, 468, 470, 472, 474, 476, 478, 480, 482, 484, 486, 488, 490, 492, 494, 496, 498, 500, 502, 504, 506, 508, 510, 512, 514, 516, 518, 520, 522, 524, 526, 528, 530, 532, 534, 536, 538, 540, 542, 544, 546, 548, 550, 552, 554, 556, 558, 560, 562, 564, 566, 568, 570, 572, 574, 576, 578, 580, 582, 584, 586, 588, 590, 592, 594, 596, 598, 600, 602, 604, 606, 608, 610, 612, 614, 616, 618, 620, 622, 624, 626, 628, 630, 632, 634, 636, 638, 640, 642, 644, 646, 648, 650, 652, 654, 656, 658, 660, 662, 664, 666, 668, 670, 672, 674, 676, 678, 680, 682, 684, 686, 688, 690, 692, 694, 696, 698, 700, 702, 704, 706, 708, 710, 712, 714, 716, 718, 720, 722, 724, 726, 728, 730, 732, 734, 736, 738, 740, 742, 744, 746, 748, 750, 752, 754, 756, 758, 760, 762, 764, 766, 768, 770, 772, 774, 776, 778, 780, 782, 784, 786, 788, 790, 792, 794, 796, 798, 800, 802, 804, 806, 808, 810, 812, 814, 816, 818, 820, 822, 824, 826, 828, 830, 832, 834, 836, 838, 840, 842, 844, 846, 848, 850, 852, 854, 856, 858, 860, 862, 864, 866, 868, 870, 872, 874, 876, 878, 880, 882, 884, 886, 888, 890, 892, 894, 896, 898, 900, 902, 904, 906, 908, 910, 912, 914, 916, 918, 920, 922, 924, 926, 928, 930, 932, 934, 936, 938, 940, 942, 944, 946, 948, 950, 952, 954, 956, 958, 960, 962, 964, 966, 968, 970, 972, 974, 976, 978, 980, 982, 984, 986, 988, 990, 992, 994, 996, 998, 1000]\n"
          ]
        }
      ]
    },
    {
      "cell_type": "markdown",
      "source": [
        "3. Imprimir los números pares en forma descendente hasta 2 que son menores o iguales a un número natural n ≥ 2 dado"
      ],
      "metadata": {
        "id": "qbfcDFJUxhV5"
      }
    },
    {
      "cell_type": "code",
      "source": [
        "def main():\n",
        "  n = int(input(\"Ingrese un número natural mayor o igual a 2: \"))\n",
        "  #Recorrer desde n hasta 2\n",
        "  for i in range(n, 1, -1):\n",
        "    #Verificar si el número es par\n",
        "    if i % 2 == 0:\n",
        "      #Imprimir el número\n",
        "      print(i)\n",
        "\n",
        "#Definir la función principal\n",
        "if __name__ == \"__main__\":\n",
        "    main()"
      ],
      "metadata": {
        "colab": {
          "base_uri": "https://localhost:8080/"
        },
        "id": "cYi0Y0wtxofE",
        "outputId": "48030283-deef-4cf1-e08f-44e076632bca",
        "collapsed": true
      },
      "execution_count": 3,
      "outputs": [
        {
          "output_type": "stream",
          "name": "stdout",
          "text": [
            "Ingrese un número natural mayor o igual a 2: 56\n",
            "56\n",
            "54\n",
            "52\n",
            "50\n",
            "48\n",
            "46\n",
            "44\n",
            "42\n",
            "40\n",
            "38\n",
            "36\n",
            "34\n",
            "32\n",
            "30\n",
            "28\n",
            "26\n",
            "24\n",
            "22\n",
            "20\n",
            "18\n",
            "16\n",
            "14\n",
            "12\n",
            "10\n",
            "8\n",
            "6\n",
            "4\n",
            "2\n"
          ]
        }
      ]
    },
    {
      "cell_type": "markdown",
      "source": [
        "4. Imprimir los números de 1 hasta un número natural n dado, cada uno con su respectivo factorial"
      ],
      "metadata": {
        "id": "90qXWE0yz7T5"
      }
    },
    {
      "cell_type": "code",
      "source": [
        "def factorial(n):\n",
        "  #Función que calcula el factorial de un número\n",
        "    if n == 0:\n",
        "        fact = 1 #Si el número es 0 por definición el factorial es 1\n",
        "    else:\n",
        "        fact = 1\n",
        "        for i in range(1, n + 1):\n",
        "          #Multiplica iterativamente hasta obtener el factorial del número requerido\n",
        "            fact *= i\n",
        "    return fact #Retorna el factorial del número\n",
        "\n",
        "def main():\n",
        "    n = int(input(\"Ingrese un número natural: \"))\n",
        "\n",
        "    # Calcular el factorial desde 1 hasta n y lo imprime\n",
        "    for i in range(1, n + 1):\n",
        "        f = factorial(i)\n",
        "        print(i, f)\n",
        "\n",
        "# Definir la función principal\n",
        "if __name__ == \"__main__\":\n",
        "    main()\n"
      ],
      "metadata": {
        "colab": {
          "base_uri": "https://localhost:8080/"
        },
        "id": "X2yID6ICzXQy",
        "outputId": "f9758eb9-c778-463a-e693-d93559ae3c5a"
      },
      "execution_count": 5,
      "outputs": [
        {
          "output_type": "stream",
          "name": "stdout",
          "text": [
            "Ingrese un número natural: 8\n",
            "1 1\n",
            "2 2\n",
            "3 6\n",
            "4 24\n",
            "5 120\n",
            "6 720\n",
            "7 5040\n",
            "8 40320\n"
          ]
        }
      ]
    },
    {
      "cell_type": "markdown",
      "source": [
        "5. Calcular el valor de 2 elevado a la potencia n usando ciclos for."
      ],
      "metadata": {
        "id": "8oShps1V0Eqx"
      }
    },
    {
      "cell_type": "code",
      "source": [
        "def main():\n",
        "    #Ingresar el valor de n\n",
        "    n = int(input(\"Ingrese un número entero positivo: \"))\n",
        "\n",
        "    #Inicializar el resultado en 1 (2^0)\n",
        "    resultado = 1\n",
        "\n",
        "    for i in range(n):\n",
        "       #Calcular 2^n usando un ciclo for\n",
        "        resultado *= 2\n",
        "\n",
        "    #Imprimir el resultado\n",
        "    print(f\"El valor de 2 elevado a la potencia {n} es: {resultado}\")\n",
        "\n",
        "#Definir la función principal\n",
        "if __name__ == \"__main__\":\n",
        "    main()\n"
      ],
      "metadata": {
        "colab": {
          "base_uri": "https://localhost:8080/"
        },
        "id": "QfQNxEziz_8G",
        "outputId": "a20dcf36-cfb8-46f1-ceb9-2a39cb6911aa"
      },
      "execution_count": 7,
      "outputs": [
        {
          "output_type": "stream",
          "name": "stdout",
          "text": [
            "Ingrese un número entero positivo: 5\n",
            "El valor de 2 elevado a la potencia 5 es: 32\n"
          ]
        }
      ]
    },
    {
      "cell_type": "markdown",
      "source": [
        "6. Leer un número natural n, leer otro dato de tipo real x y calcular x^n usando ciclos for. \\\\\n",
        "Disclaimer: Trate de no utilizar el operador de potencia (**)."
      ],
      "metadata": {
        "id": "5qDQsyVx0Pap"
      }
    },
    {
      "cell_type": "code",
      "source": [
        "def main():\n",
        "    # Leer el valor del número natural n\n",
        "    n = int(input(\"Ingrese un número natural n: \"))\n",
        "\n",
        "    # Leer el valor del número real x\n",
        "    x = float(input(\"Ingrese un número real x: \"))\n",
        "\n",
        "    # Inicializar el resultado en 1 (x^0 = 1)\n",
        "    resultado = 1.0 #Note que se usa '.' para que no se interprete como entero\n",
        "\n",
        "    # Calcular x^n usando un ciclo for\n",
        "    for i in range(n):\n",
        "        resultado *= x\n",
        "\n",
        "    # Imprimir el resultado\n",
        "    print(f\"El valor de {x} elevado a la potencia {n} es: {resultado}\")\n",
        "\n",
        "# Definir la función principal\n",
        "if __name__ == \"__main__\":\n",
        "    main()\n"
      ],
      "metadata": {
        "colab": {
          "base_uri": "https://localhost:8080/"
        },
        "id": "hFaITHCq0Wu6",
        "outputId": "575c858a-89d8-456d-9d77-cfb292f9379e"
      },
      "execution_count": 9,
      "outputs": [
        {
          "output_type": "stream",
          "name": "stdout",
          "text": [
            "Ingrese un número natural n: 5\n",
            "Ingrese un número real x: 0.5\n",
            "El valor de 0.5 elevado a la potencia 5 es: 0.03125\n"
          ]
        }
      ]
    },
    {
      "cell_type": "markdown",
      "source": [
        "7. Diseñe un programa que muestre las tablas de multiplicar del 1 al 9."
      ],
      "metadata": {
        "id": "b6PK_kbvYCXJ"
      }
    },
    {
      "cell_type": "code",
      "source": [
        "def main():\n",
        "    # Generamos las tablas de multiplicar del 1 al 9\n",
        "    for i in range(1, 10):\n",
        "        print(f\"Tabla del {i}:\")\n",
        "        for j in range(1, 10):\n",
        "            print(f\"{i} x {j} = {i * j}\")\n",
        "        print(\"-\" * 15)\n",
        "\n",
        "# Definimos la función principal\n",
        "if __name__ == \"__main__\":\n",
        "    main()\n"
      ],
      "metadata": {
        "colab": {
          "base_uri": "https://localhost:8080/"
        },
        "id": "AWDQ8bpoYFbL",
        "outputId": "0a013b42-c3f5-46d2-99df-dceb53e2eec2"
      },
      "execution_count": 10,
      "outputs": [
        {
          "output_type": "stream",
          "name": "stdout",
          "text": [
            "Tabla del 1:\n",
            "1 x 1 = 1\n",
            "1 x 2 = 2\n",
            "1 x 3 = 3\n",
            "1 x 4 = 4\n",
            "1 x 5 = 5\n",
            "1 x 6 = 6\n",
            "1 x 7 = 7\n",
            "1 x 8 = 8\n",
            "1 x 9 = 9\n",
            "---------------\n",
            "Tabla del 2:\n",
            "2 x 1 = 2\n",
            "2 x 2 = 4\n",
            "2 x 3 = 6\n",
            "2 x 4 = 8\n",
            "2 x 5 = 10\n",
            "2 x 6 = 12\n",
            "2 x 7 = 14\n",
            "2 x 8 = 16\n",
            "2 x 9 = 18\n",
            "---------------\n",
            "Tabla del 3:\n",
            "3 x 1 = 3\n",
            "3 x 2 = 6\n",
            "3 x 3 = 9\n",
            "3 x 4 = 12\n",
            "3 x 5 = 15\n",
            "3 x 6 = 18\n",
            "3 x 7 = 21\n",
            "3 x 8 = 24\n",
            "3 x 9 = 27\n",
            "---------------\n",
            "Tabla del 4:\n",
            "4 x 1 = 4\n",
            "4 x 2 = 8\n",
            "4 x 3 = 12\n",
            "4 x 4 = 16\n",
            "4 x 5 = 20\n",
            "4 x 6 = 24\n",
            "4 x 7 = 28\n",
            "4 x 8 = 32\n",
            "4 x 9 = 36\n",
            "---------------\n",
            "Tabla del 5:\n",
            "5 x 1 = 5\n",
            "5 x 2 = 10\n",
            "5 x 3 = 15\n",
            "5 x 4 = 20\n",
            "5 x 5 = 25\n",
            "5 x 6 = 30\n",
            "5 x 7 = 35\n",
            "5 x 8 = 40\n",
            "5 x 9 = 45\n",
            "---------------\n",
            "Tabla del 6:\n",
            "6 x 1 = 6\n",
            "6 x 2 = 12\n",
            "6 x 3 = 18\n",
            "6 x 4 = 24\n",
            "6 x 5 = 30\n",
            "6 x 6 = 36\n",
            "6 x 7 = 42\n",
            "6 x 8 = 48\n",
            "6 x 9 = 54\n",
            "---------------\n",
            "Tabla del 7:\n",
            "7 x 1 = 7\n",
            "7 x 2 = 14\n",
            "7 x 3 = 21\n",
            "7 x 4 = 28\n",
            "7 x 5 = 35\n",
            "7 x 6 = 42\n",
            "7 x 7 = 49\n",
            "7 x 8 = 56\n",
            "7 x 9 = 63\n",
            "---------------\n",
            "Tabla del 8:\n",
            "8 x 1 = 8\n",
            "8 x 2 = 16\n",
            "8 x 3 = 24\n",
            "8 x 4 = 32\n",
            "8 x 5 = 40\n",
            "8 x 6 = 48\n",
            "8 x 7 = 56\n",
            "8 x 8 = 64\n",
            "8 x 9 = 72\n",
            "---------------\n",
            "Tabla del 9:\n",
            "9 x 1 = 9\n",
            "9 x 2 = 18\n",
            "9 x 3 = 27\n",
            "9 x 4 = 36\n",
            "9 x 5 = 45\n",
            "9 x 6 = 54\n",
            "9 x 7 = 63\n",
            "9 x 8 = 72\n",
            "9 x 9 = 81\n",
            "---------------\n"
          ]
        }
      ]
    },
    {
      "cell_type": "markdown",
      "source": [
        "8. Diseñar una función que permita calcular una aproximación de la función exponencial alrededor de 0 para cualquier valor x (real), utilizando los primeros n términos de la serie de Taylor. **Nota:** use *math* para traer la función exponencial y mostrar la diferencia entre el valor real y la aproximación.\n",
        "$$e^x \\approx exp(x,n) \\approx \\sum_{i=0}^{n}\\frac{x^i}{i!}$$"
      ],
      "metadata": {
        "id": "t13CAivlYaPh"
      }
    },
    {
      "cell_type": "code",
      "source": [
        "import math\n",
        "\n",
        "# Calculamos el factorial de un número\n",
        "def factorial(n):\n",
        "    if n == 0:\n",
        "        return 1\n",
        "    fact = 1\n",
        "    for i in range(1, n + 1):\n",
        "        fact *= i\n",
        "    return fact\n",
        "\n",
        "# Calculamos la aproximación de e^x utilizando la serie de Taylor\n",
        "def taylor_exp(x, n):\n",
        "    result = 0\n",
        "    for i in range(n + 1):  # Ajustamos el rango para incluir el término n\n",
        "        result += x**i / factorial(i)\n",
        "    return result\n",
        "\n",
        "def main():\n",
        "    # Leemos los valores de x y n\n",
        "    x = float(input(\"Ingrese el valor de x (real): \"))\n",
        "    n = int(input(\"Ingrese el número de términos n (entero, n >= 0): \"))\n",
        "\n",
        "    # Validamos que n sea no negativo\n",
        "    if n < 0:\n",
        "        print(\"El número de términos n debe ser un entero no negativo.\")\n",
        "        return\n",
        "\n",
        "    # Calculamos la aproximación y el valor real\n",
        "    approx = taylor_exp(x, n)\n",
        "    real = math.exp(x)\n",
        "    difference = abs(real - approx)\n",
        "\n",
        "    # Mostramos los resultados\n",
        "    print(f\"Valor aproximado de e^{x} usando {n} términos: {approx}\")\n",
        "    print(f\"Valor real de e^{x}: {real}\")\n",
        "    print(f\"Diferencia absoluta: {difference}\")\n",
        "\n",
        "# Ejecutamos la función principal\n",
        "if __name__ == \"__main__\":\n",
        "    main()\n"
      ],
      "metadata": {
        "colab": {
          "base_uri": "https://localhost:8080/"
        },
        "id": "z-a3jqDQYe4v",
        "outputId": "d12e8045-58d4-46c7-a27e-70f2aaa6c43c"
      },
      "execution_count": 11,
      "outputs": [
        {
          "output_type": "stream",
          "name": "stdout",
          "text": [
            "Ingrese el valor de x (real): 1\n",
            "Ingrese el número de términos n (entero, n >= 0): 4\n",
            "Valor aproximado de e^1.0 usando 4 términos: 2.708333333333333\n",
            "Valor real de e^1.0: 2.718281828459045\n",
            "Diferencia absoluta: 0.009948495125712054\n"
          ]
        }
      ]
    },
    {
      "cell_type": "markdown",
      "source": [
        "9. Diseñar una función que permita calcular una aproximación de la función seno alrededor de 0 para cualquier valor x (real), utilizando los primeros n términos de la serie de Maclaurin. **Nota:** use *math* para traer la función seno y mostrar la diferencia entre el valor real y la aproximación.\n",
        "$$sin(x) \\approx sin(x,n) \\approx \\sum_{i=0}^{n} (-1)^i \\frac{x^{2i+1}}{(2i+1)!}$$"
      ],
      "metadata": {
        "id": "9nCpJEeEZpjq"
      }
    },
    {
      "cell_type": "code",
      "source": [
        "import math\n",
        "\n",
        "# Calculamos el factorial de un número\n",
        "def factorial(n):\n",
        "    if n == 0:\n",
        "        return 1\n",
        "    fact = 1\n",
        "    for i in range(1, n + 1):\n",
        "        fact *= i\n",
        "    return fact\n",
        "\n",
        "# Calculamos la función seno usando la serie de Maclaurin\n",
        "def maclaurin_sin(x, n):\n",
        "    result = 0\n",
        "    for i in range(n + 1):\n",
        "        term = (-1) ** i * x ** (2 * i + 1) / factorial(2 * i + 1)\n",
        "        result += term\n",
        "    return result\n",
        "\n",
        "def main():\n",
        "    # Leemos los valores de x y n\n",
        "    x = float(input(\"Ingrese el valor de x (real): \"))\n",
        "    n = int(input(\"Ingrese el número de términos n (entero, n >= 0): \"))\n",
        "\n",
        "    # Validamos que n sea no negativo\n",
        "    if n < 0:\n",
        "        print(\"El número de términos n debe ser un entero no negativo.\")\n",
        "        return\n",
        "\n",
        "    # Calculamos la aproximación y el valor real\n",
        "    approx = maclaurin_sin(x, n)\n",
        "    real = math.sin(x)\n",
        "    difference = abs(real - approx)\n",
        "\n",
        "    # Mostramos los resultados\n",
        "    print(f\"Valor aproximado de sin({x}) usando {n} términos: {approx}\")\n",
        "    print(f\"Valor real de sin({x}): {real}\")\n",
        "    print(f\"Diferencia absoluta: {difference}\")\n",
        "\n",
        "# Ejecutamos la función principal\n",
        "if __name__ == \"__main__\":\n",
        "    main()\n"
      ],
      "metadata": {
        "colab": {
          "base_uri": "https://localhost:8080/"
        },
        "id": "MhGxuy9nZsW3",
        "outputId": "4e0b9f39-c395-48e7-ef73-bd650be705ea"
      },
      "execution_count": 12,
      "outputs": [
        {
          "output_type": "stream",
          "name": "stdout",
          "text": [
            "Ingrese el valor de x (real): 3.1415926536\n",
            "Ingrese el número de términos n (entero, n >= 0): 4\n",
            "Valor aproximado de sin(3.1415926536) usando 4 términos: 0.006925270697542493\n",
            "Valor real de sin(3.1415926536): -1.0206823934513925e-11\n",
            "Diferencia absoluta: 0.006925270707749317\n"
          ]
        }
      ]
    }
  ]
}